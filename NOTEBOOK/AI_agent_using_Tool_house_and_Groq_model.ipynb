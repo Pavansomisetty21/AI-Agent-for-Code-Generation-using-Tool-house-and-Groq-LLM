{
 "cells": [
  {
   "cell_type": "code",
   "execution_count": 7,
   "metadata": {
    "colab": {
     "base_uri": "https://localhost:8080/"
    },
    "id": "UTHkFd_iWzId",
    "outputId": "929c231d-bf37-44e6-acdb-eb9d57df87b8"
   },
   "outputs": [
    {
     "name": "stdout",
     "output_type": "stream",
     "text": [
      "Collecting toolhouse\n",
      "  Downloading toolhouse-1.4.0-py3-none-any.whl.metadata (23 kB)\n",
      "Collecting anthropic (from toolhouse)\n",
      "  Downloading anthropic-0.49.0-py3-none-any.whl.metadata (24 kB)\n",
      "Collecting groq (from toolhouse)\n",
      "  Downloading groq-0.18.0-py3-none-any.whl.metadata (14 kB)\n",
      "Collecting http-exceptions (from toolhouse)\n",
      "  Downloading http_exceptions-0.2.10-py3-none-any.whl.metadata (7.0 kB)\n",
      "Requirement already satisfied: openai in /usr/local/lib/python3.11/dist-packages (from toolhouse) (1.61.1)\n",
      "Collecting python-dotenv>=1.0.1 (from toolhouse)\n",
      "  Downloading python_dotenv-1.0.1-py3-none-any.whl.metadata (23 kB)\n",
      "Requirement already satisfied: requests in /usr/local/lib/python3.11/dist-packages (from toolhouse) (2.32.3)\n",
      "Requirement already satisfied: anyio<5,>=3.5.0 in /usr/local/lib/python3.11/dist-packages (from anthropic->toolhouse) (3.7.1)\n",
      "Requirement already satisfied: distro<2,>=1.7.0 in /usr/local/lib/python3.11/dist-packages (from anthropic->toolhouse) (1.9.0)\n",
      "Requirement already satisfied: httpx<1,>=0.23.0 in /usr/local/lib/python3.11/dist-packages (from anthropic->toolhouse) (0.28.1)\n",
      "Requirement already satisfied: jiter<1,>=0.4.0 in /usr/local/lib/python3.11/dist-packages (from anthropic->toolhouse) (0.8.2)\n",
      "Requirement already satisfied: pydantic<3,>=1.9.0 in /usr/local/lib/python3.11/dist-packages (from anthropic->toolhouse) (2.10.6)\n",
      "Requirement already satisfied: sniffio in /usr/local/lib/python3.11/dist-packages (from anthropic->toolhouse) (1.3.1)\n",
      "Requirement already satisfied: typing-extensions<5,>=4.10 in /usr/local/lib/python3.11/dist-packages (from anthropic->toolhouse) (4.12.2)\n",
      "Requirement already satisfied: tqdm>4 in /usr/local/lib/python3.11/dist-packages (from openai->toolhouse) (4.67.1)\n",
      "Requirement already satisfied: charset-normalizer<4,>=2 in /usr/local/lib/python3.11/dist-packages (from requests->toolhouse) (3.4.1)\n",
      "Requirement already satisfied: idna<4,>=2.5 in /usr/local/lib/python3.11/dist-packages (from requests->toolhouse) (3.10)\n",
      "Requirement already satisfied: urllib3<3,>=1.21.1 in /usr/local/lib/python3.11/dist-packages (from requests->toolhouse) (2.3.0)\n",
      "Requirement already satisfied: certifi>=2017.4.17 in /usr/local/lib/python3.11/dist-packages (from requests->toolhouse) (2025.1.31)\n",
      "Requirement already satisfied: httpcore==1.* in /usr/local/lib/python3.11/dist-packages (from httpx<1,>=0.23.0->anthropic->toolhouse) (1.0.7)\n",
      "Requirement already satisfied: h11<0.15,>=0.13 in /usr/local/lib/python3.11/dist-packages (from httpcore==1.*->httpx<1,>=0.23.0->anthropic->toolhouse) (0.14.0)\n",
      "Requirement already satisfied: annotated-types>=0.6.0 in /usr/local/lib/python3.11/dist-packages (from pydantic<3,>=1.9.0->anthropic->toolhouse) (0.7.0)\n",
      "Requirement already satisfied: pydantic-core==2.27.2 in /usr/local/lib/python3.11/dist-packages (from pydantic<3,>=1.9.0->anthropic->toolhouse) (2.27.2)\n",
      "Downloading toolhouse-1.4.0-py3-none-any.whl (43 kB)\n",
      "\u001b[2K   \u001b[90m━━━━━━━━━━━━━━━━━━━━━━━━━━━━━━━━━━━━━━━━\u001b[0m \u001b[32m43.8/43.8 kB\u001b[0m \u001b[31m2.4 MB/s\u001b[0m eta \u001b[36m0:00:00\u001b[0m\n",
      "\u001b[?25hDownloading python_dotenv-1.0.1-py3-none-any.whl (19 kB)\n",
      "Downloading anthropic-0.49.0-py3-none-any.whl (243 kB)\n",
      "\u001b[2K   \u001b[90m━━━━━━━━━━━━━━━━━━━━━━━━━━━━━━━━━━━━━━━━\u001b[0m \u001b[32m243.4/243.4 kB\u001b[0m \u001b[31m7.3 MB/s\u001b[0m eta \u001b[36m0:00:00\u001b[0m\n",
      "\u001b[?25hDownloading groq-0.18.0-py3-none-any.whl (121 kB)\n",
      "\u001b[2K   \u001b[90m━━━━━━━━━━━━━━━━━━━━━━━━━━━━━━━━━━━━━━━━\u001b[0m \u001b[32m121.9/121.9 kB\u001b[0m \u001b[31m7.6 MB/s\u001b[0m eta \u001b[36m0:00:00\u001b[0m\n",
      "\u001b[?25hDownloading http_exceptions-0.2.10-py3-none-any.whl (8.8 kB)\n",
      "Installing collected packages: python-dotenv, http-exceptions, groq, anthropic, toolhouse\n",
      "Successfully installed anthropic-0.49.0 groq-0.18.0 http-exceptions-0.2.10 python-dotenv-1.0.1 toolhouse-1.4.0\n"
     ]
    }
   ],
   "source": [
    "pip install toolhouse"
   ]
  },
  {
   "cell_type": "code",
   "execution_count": 8,
   "metadata": {
    "colab": {
     "base_uri": "https://localhost:8080/"
    },
    "id": "BaP243KEWsK-",
    "outputId": "e5d5718f-ecd1-4364-fbf5-df3bb71c6224"
   },
   "outputs": [
    {
     "name": "stdout",
     "output_type": "stream",
     "text": [
      "Requirement already satisfied: groq in /usr/local/lib/python3.11/dist-packages (0.18.0)\n",
      "Requirement already satisfied: anyio<5,>=3.5.0 in /usr/local/lib/python3.11/dist-packages (from groq) (3.7.1)\n",
      "Requirement already satisfied: distro<2,>=1.7.0 in /usr/local/lib/python3.11/dist-packages (from groq) (1.9.0)\n",
      "Requirement already satisfied: httpx<1,>=0.23.0 in /usr/local/lib/python3.11/dist-packages (from groq) (0.28.1)\n",
      "Requirement already satisfied: pydantic<3,>=1.9.0 in /usr/local/lib/python3.11/dist-packages (from groq) (2.10.6)\n",
      "Requirement already satisfied: sniffio in /usr/local/lib/python3.11/dist-packages (from groq) (1.3.1)\n",
      "Requirement already satisfied: typing-extensions<5,>=4.10 in /usr/local/lib/python3.11/dist-packages (from groq) (4.12.2)\n",
      "Requirement already satisfied: idna>=2.8 in /usr/local/lib/python3.11/dist-packages (from anyio<5,>=3.5.0->groq) (3.10)\n",
      "Requirement already satisfied: certifi in /usr/local/lib/python3.11/dist-packages (from httpx<1,>=0.23.0->groq) (2025.1.31)\n",
      "Requirement already satisfied: httpcore==1.* in /usr/local/lib/python3.11/dist-packages (from httpx<1,>=0.23.0->groq) (1.0.7)\n",
      "Requirement already satisfied: h11<0.15,>=0.13 in /usr/local/lib/python3.11/dist-packages (from httpcore==1.*->httpx<1,>=0.23.0->groq) (0.14.0)\n",
      "Requirement already satisfied: annotated-types>=0.6.0 in /usr/local/lib/python3.11/dist-packages (from pydantic<3,>=1.9.0->groq) (0.7.0)\n",
      "Requirement already satisfied: pydantic-core==2.27.2 in /usr/local/lib/python3.11/dist-packages (from pydantic<3,>=1.9.0->groq) (2.27.2)\n"
     ]
    }
   ],
   "source": [
    "pip install groq"
   ]
  },
  {
   "cell_type": "code",
   "execution_count": 28,
   "metadata": {
    "id": "Cctm_NR-WtLP"
   },
   "outputs": [],
   "source": [
    "# Import packages\n",
    "from toolhouse import Toolhouse\n",
    "from groq import Groq"
   ]
  },
  {
   "cell_type": "code",
   "execution_count": 29,
   "metadata": {
    "id": "b4i58GduY6CG"
   },
   "outputs": [],
   "source": [
    "client = Groq(api_key=\"groq api key\")\n",
    "th = Toolhouse(api_key=\"tool house api key\")"
   ]
  },
  {
   "cell_type": "code",
   "execution_count": 30,
   "metadata": {
    "id": "GESHMRQAZMl2"
   },
   "outputs": [],
   "source": [
    "MODEL = \"llama-3.3-70b-versatile\""
   ]
  },
  {
   "cell_type": "code",
   "execution_count": 31,
   "metadata": {
    "colab": {
     "base_uri": "https://localhost:8080/"
    },
    "id": "uAstpgceaRIL",
    "outputId": "492229ad-d77d-40ff-aca7-68f7a18fc7ed"
   },
   "outputs": [
    {
     "name": "stdout",
     "output_type": "stream",
     "text": [
      "TOOLS AVAILABLE:\n",
      "Name: exa_web_search\n",
      "Type: function\n",
      "Description: Performs a web search using a search engine like Google Search. You can use the Google search query syntax. By default, web search returns up to 5 results, but your LLM can specify a different number of results. To do so, you can prompt your LLM to pass a 'num_results' argument to your query.\n",
      "Required Parameters:\n",
      "query - The search query. You can use natural language to describe what you want to search for.\n",
      "\n",
      "\n",
      "Name: pdf2csv\n",
      "Type: function\n",
      "Description: Allows you to get the contents of a table from a PDF file provided by the user. Use this tool any time you need to accurately extract data from a PDF file. You can also use this tool whenever the user asks you to do so. IMPORTANT: do not create the URL. Ensure the user gave you a valid URL before calling this tool.\n",
      "Required Parameters:\n",
      "pdf_url - The url of the PDF you want to parse.\n",
      "\n",
      "\n",
      "Name: random_emoji\n",
      "Type: function\n",
      "Description: Selects a random emoji (and sometimes a random Unicode character).\n",
      "Required Parameters:\n",
      "\n",
      "\n",
      "Name: mongo_db_memory_store\n",
      "Type: function\n",
      "Description: Creates structured, vector-based memories in MongoDB Atlas Vector Search. Use this tool for storing and indexing data optimized for semantic search, embeddings, and context-aware analysis across sessions - not for simple memory recall tasks.\n",
      "Required Parameters:\n",
      "memory - The information you want to remember about this person. You can send multiple pieces of information here.\n",
      "\n",
      "\n",
      "Name: tavily_web_search_with_contents\n",
      "Type: function\n",
      "Description: Performs a web search using a search engine, and returns the full content of each result. Use natural language, such as questions or short statements, to get your results.\n",
      "Required Parameters:\n",
      "query - The search query. You can use natural language to describe what you want to search for.\n",
      "\n",
      "\n",
      "Name: send_email\n",
      "Type: function\n",
      "Description: Allows you to send the emails you compose to one or multiple recipients. Use this tool when you need to transmit information or messages electronically to specific individuals or groups. Attachments are not supported at the moment, but you can format the email using HTML. When using this tool, ensure that all email addresses are correctly formatted and valid. The 'subject' should be concise yet descriptive. The 'body' parameter accepts HTML, allowing for rich text formatting, embedded images, and hyperlinks. IMPORTANT: only use this tool when you got an email address from the user. Do not attempt to generate an email address yourself.\n",
      "Required Parameters:\n",
      "subject - The email subject line. The text should be concise yet descriptive.\n",
      "to - A comma-separated list of email address of the recipients. Must be valid emails, example: alice@example.com\n",
      "content - The main content of the email. This can include plain text or HTML formatting.\n",
      "\n",
      "\n",
      "Name: memory_store\n",
      "Type: function\n",
      "Description: Allows you to persist information across conversations. Use this tool to store whatever information you want to remember about the user. You can use this tool whenever the user needs to remember something, or when the user asks you to remember something. Write whatever information you want to remember.\n",
      "Required Parameters:\n",
      "memory - The information you want to remember about this person. You can send multiple pieces of information here.\n",
      "\n",
      "\n",
      "Name: memory_fetch\n",
      "Type: function\n",
      "Description: Allows you to retrieve information from previous conversations. Use this tool to get details about previous conversations. You can also use this tool when the user asks you to retrieve previous conversations or previously stored details. You cannot use this tool to store memories. You can only use this tool to remember things.\n",
      "Required Parameters:\n",
      "\n",
      "\n",
      "Name: exa_web_search_with_contents\n",
      "Type: function\n",
      "Description: Performs a web search using a search engine like Google Search, and returns the full content of each result.\n",
      "Required Parameters:\n",
      "query - The search query. You can use natural language to describe what you want to search for.\n",
      "\n",
      "\n",
      "Name: memory_search\n",
      "Type: function\n",
      "Description: Allows you to retrieve information from previous conversations. Use this tool to get details about previous conversations. You can also use this tool when the user asks you to retrieve previous conversations or previously stored details. You cannot use this tool to store memories. You can only use this tool to remember things. You can specify an optional query or phrase that indicates the content you are looking for, based on what the user is asking.\n",
      "Required Parameters:\n",
      "\n",
      "\n",
      "Name: current_time\n",
      "Type: function\n",
      "Description: Gets the current UTC time. IMPORTANT: do not pass arguments to this tool.\n",
      "Required Parameters:\n",
      "\n",
      "\n",
      "Name: is_prime\n",
      "Type: function\n",
      "Description: Determines if a number is prime number. Use this tool any time you want to accurately determine if a number is a prime number.\n",
      "Required Parameters:\n",
      "number - The number you want to check\n",
      "\n",
      "\n",
      "Name: mongo_db_memory_search\n",
      "Type: function\n",
      "Description: Executes semantic searches using MongoDB Atlas Vector Search. Use this tool to retrieve vector-based data optimized for embeddings and contextual analysis—not for basic memory recall tasks.\n",
      "Required Parameters:\n",
      "query - A query or phrase that indicates the type or category or memory you are looking for. You can omit this if you need to retrieve all memories.\n",
      "\n",
      "\n",
      "Name: job_openings_search\n",
      "Type: function\n",
      "Description: Performs a job openings search using a search engine like Google Search. You can use the Google search query syntax.\n",
      "Required Parameters:\n",
      "query - The search query for job openings. You can use keywords, job titles, company names, or locations to refine your search.\n",
      "\n",
      "\n",
      "Name: pinecone_memory_search\n",
      "Type: function\n",
      "Description: Retrieves high-dimensional vector embeddings stored in Pinecone for semantic search. Use this tool to fetch contextually similar data with relevance scoring—not for basic memory recall tasks.\n",
      "Required Parameters:\n",
      "query - A query or phrase that indicates the type or category or memory you are looking for. You can omit this if you need to retrieve all memories.\n",
      "\n",
      "\n",
      "Name: google_trends\n",
      "Type: function\n",
      "Description: Returns a 30-day timeseries about a search query you specify.\n",
      "Required Parameters:\n",
      "query - The search query you want timeseries for. You can use keywords.\n",
      "\n",
      "\n",
      "Name: search_x\n",
      "Type: function\n",
      "Description: This tool helps your LLM refine and target specific tweets (or posts) from X (formerly Twitter) database. By using advanced search operators, the LLM can compose precise search queries to locate the most relevant posts based on criteria like user, date, media type, and more.\n",
      "Required Parameters:\n",
      "query - The keywords and filter to apply to perform a targeted search for on X (formerly Twitter). When using keyword arguments like from: or to:, omit the @ part of the user handle.\n",
      "\n",
      "\n",
      "Name: code_interpreter\n",
      "Type: function\n",
      "Description: Allows you to run the code you generate. You can use this tool to verify that the code you generate is valid and contains all the relevant dependencies. IMPORTANT: When sending code, end your code with a print statement of the result. If you return something, make sure to change that return statement for a print statement.\n",
      "Required Parameters:\n",
      "code_str - The code to execute. Only Python is supported at the moment. IMPORTANT: When sending code, end your code with a print statement of the result. If you return something, make sure to change that return statement for a print statement.\n",
      "\n",
      "\n",
      "Name: web_search\n",
      "Type: function\n",
      "Description: Performs a web search using a search engine like Google Search. You can use the Google search query syntax.\n",
      "Required Parameters:\n",
      "query - The search query. You can use the Google search query syntax.\n",
      "\n",
      "\n",
      "Name: memory_delete\n",
      "Type: function\n",
      "Description: Allows you to remove information saved from previous conversations. Use this tool to delete details about previous conversations. You cannot use this tool to store memories. You can only use this tool to delete things. You can specify an optional query or phrase that indicates the type or category of content you are looking to delete, based on what the user is asking.\n",
      "Required Parameters:\n",
      "\n",
      "\n",
      "Name: scraper\n",
      "Type: function\n",
      "Description: Gets the content of a page using the URL you specify.\n",
      "Required Parameters:\n",
      "url - The URL of the page you want to get the contents of. Specify a canonical URL.\n",
      "\n",
      "\n",
      "Name: pinecone_memory_store\n",
      "Type: function\n",
      "Description: Stores vector embeddings in Pinecone for advanced semantic search and retrieval. Use this tool to persist structured data optimized for embeddings and context-aware queries—not for general-purpose memory storage.\n",
      "Required Parameters:\n",
      "memory - The information you want to remember about this person. You can send multiple pieces of information here.\n",
      "\n",
      "\n",
      "Name: anchor_screenshot\n",
      "Type: function\n",
      "Description: Captures a screenshot of a website using the AnchorBrowser Screenshot API. The user has simply to provide the URL to capture. The resulting screenshot is hosted on Toolhouse's infrastructure.\n",
      "Required Parameters:\n",
      "url - The webpage URL to capture a screenshot from.\n",
      "\n",
      "\n",
      "Name: exa_linkedin_search\n",
      "Type: function\n",
      "Description: Performs a LinkedIn search to find professional profiles. You can use natural language queries to search for specific roles, companies, or individuals. By default, the search returns 1 result, but you can specify more using the 'num_results' parameter.\n",
      "Required Parameters:\n",
      "query - The LinkedIn search query. You can use natural language to describe what profiles you want to find.\n",
      "\n",
      "\n",
      "Name: doc_parser\n",
      "Type: function\n",
      "Description: Converts PDF, PowerPoint, Word, Excel, Images, Audio, HTML, Text-based formats (CSV, JSON, XML) documents to markdown format. Provide a URL to a document file, and the tool will fetch it, parse its contents, and return the text in markdown format. The tool handles temporary file management and cleanup automatically.\n",
      "Required Parameters:\n",
      "file_url - The URL of the file to be parsed\n",
      "\n",
      "\n",
      "Name: gmail_list_labels\n",
      "Type: function\n",
      "Description: List all the labels in a Gmail account.\n",
      "Required Parameters:\n",
      "\n",
      "\n",
      "Name: find_gmail_messages\n",
      "Type: function\n",
      "Description: Allows you to search inside the Gmail inbox of the user. You can specify an optional query to filter the messages. This query uses the standard Gmail search syntax. The tool returns a list of messages that match the search criteria.\n",
      "Required Parameters:\n",
      "\n",
      "\n",
      "Name: gmail_add_label_to_email\n",
      "Type: function\n",
      "Description: Allows you to add labels to an email in a Gmail account.\n",
      "Required Parameters:\n",
      "\n",
      "\n",
      "Name: gmail_remove_label_from_email\n",
      "Type: function\n",
      "Description: Allows you to remove labels from an email in a Gmail account.\n",
      "Required Parameters:\n",
      "\n",
      "\n",
      "Name: slack_send_message\n",
      "Type: function\n",
      "Description: Allows you to send a message to a Slack channel. By default, you will send messages as a bot, but you can choose to send messages as the current user if the user has told you to do so.\n",
      "Required Parameters:\n",
      "message - The message to send to the Slack channel.\n",
      "channel - The Slack channel to send the message to.\n",
      "\n",
      "\n",
      "Name: get_notion_page\n",
      "Type: function\n",
      "Description: Allows you to get the contents of a Notion page.\n",
      "Required Parameters:\n",
      "page_url - The URL to the Notion page\n",
      "\n",
      "\n",
      "Name: get_current_news\n",
      "Type: function\n",
      "Description: Gets the current news for the query you specify. IMPORTANT: you MUST provide a query.\n",
      "Required Parameters:\n",
      "query - The news you want to get. You can specify a person (example: Barack Obama), topic (example: foreign politics), named entity (for example: Paris), or broader argument (for example: what is going on in the world right now?). If the scraper tool is available, you can get more detail about a specific news by requesting its page contents.\n",
      "\n",
      "\n",
      "Name: image_generation_flux\n",
      "Type: function\n",
      "Description: This tools enables the LLM to generate images from a given description. The description comes in the format of a prompt. For example: `a photo of a cat, sitting on the couch, looking at the camera, hyper realistic, ultra high definition`. Always use a height value of 768 and a width value of 1024, unless otherwise state by the user. The image generated is returned to the LLM as a JSON containing a string which represents the image in an embeddable markdown format. Only return the markdown embed code to the user. For example: ![](https://example.com/image/url-string)\n",
      "Required Parameters:\n",
      "prompt - The prompt that will generate the image\n",
      "height - A value between 64 and 1792 representing the width of the image in pixels. Must be a multiple of 16.\n",
      "\n",
      "\n",
      "Name: diffbot\n",
      "Type: function\n",
      "Description: Extract information from a required given URL. If you receive an errorCode from this tool, try again up to 3 more times.\n",
      "Required Parameters:\n",
      "url - The URL that will serve as the source for extracting information.\n",
      "\n",
      "\n"
     ]
    }
   ],
   "source": [
    "print('TOOLS AVAILABLE:')\n",
    "for tool in th.get_tools():\n",
    "    print(f\"Name: {tool['function']['name']}\")\n",
    "    print(f\"Type: {tool['type']}\")\n",
    "    print(f\"Description: {tool['function']['description']}\")\n",
    "    print('Required Parameters:')\n",
    "    for required_parameter in tool['required']:\n",
    "      print(f\"{required_parameter} - {tool['function']['parameters']['properties'][required_parameter]['description']}\")\n",
    "    print('\\n')"
   ]
  },
  {
   "cell_type": "code",
   "execution_count": 32,
   "metadata": {
    "id": "teGRvrEHaT9u"
   },
   "outputs": [],
   "source": [
    "# User message to the LLM\n",
    "messages = [\n",
    "  {\n",
    "    \"role\": \"user\",\n",
    "    \"content\": \"Generate and run code to solve this equation: x = 409830948 / 9834294824.\",\n",
    "  }\n",
    "]"
   ]
  },
  {
   "cell_type": "code",
   "execution_count": 33,
   "metadata": {
    "id": "OpF6tZH6acY6"
   },
   "outputs": [],
   "source": [
    "# Groq API response with Toolhouse tools\n",
    "response = client.chat.completions.create(\n",
    "  model=MODEL,\n",
    "  messages=messages,\n",
    "  # Passes Code Execution as a tool\n",
    "  tools=th.get_tools(),\n",
    ")"
   ]
  },
  {
   "cell_type": "code",
   "execution_count": 40,
   "metadata": {
    "colab": {
     "base_uri": "https://localhost:8080/"
    },
    "id": "9Sf1ScdZaiAC",
    "outputId": "91b0cba1-77df-4e28-fedd-1acc36f526e9"
   },
   "outputs": [
    {
     "name": "stdout",
     "output_type": "stream",
     "text": [
      "None\n"
     ]
    }
   ],
   "source": [
    "tools_called = response.choices[0].message.tool_calls\n",
    "print(tools_called)"
   ]
  },
  {
   "cell_type": "code",
   "execution_count": 41,
   "metadata": {
    "id": "yfwQkLkealR7"
   },
   "outputs": [],
   "source": [
    "tool_run = th.run_tools(response)\n",
    "messages.extend(tool_run)\n",
    "\n",
    "\n",
    "for message in tool_run:\n",
    "    print(f\"Role: {message['role']}\")\n",
    "    if 'tool_calls' in message:\n",
    "        print(f\"Tool Calls: {message['tool_calls']}\")\n",
    "    if 'tool_call_id' in message:\n",
    "        print(f\"Tool Call ID: {message['tool_call_id']}\")\n",
    "    print(f\"Content: {message['content']}\")\n",
    "    print('\\n')"
   ]
  },
  {
   "cell_type": "code",
   "execution_count": 24,
   "metadata": {
    "colab": {
     "base_uri": "https://localhost:8080/"
    },
    "id": "MM1yugpnau0z",
    "outputId": "7c09af3b-9df7-4768-c320-7bc73e9fc23b"
   },
   "outputs": [
    {
     "name": "stdout",
     "output_type": "stream",
     "text": [
      "<function/code_interpreter{\"code_str\": \"for i in range(1, 11):\\n    if i % 3 == 0 and i % 5 == 0:\\n        print(\\\"FizzBuzz\\\")\\n    elif i % 3 == 0:\\n        print(\\\"Fizz\\\")\\n    elif i % 5 == 0:\\n        print(\\\"Buzz\\\")\\n    else:\\n        print(i)\"}</function>\n"
     ]
    }
   ],
   "source": [
    "import os\n",
    "from toolhouse import Toolhouse\n",
    "# 👋 Make sure you've also installed the Groq SDK through: pip install groq\n",
    "from groq import Groq\n",
    "\n",
    "client = Groq(api_key=\"groq api key\")\n",
    "MODEL = \"llama-3.3-70b-versatile\"\n",
    "\n",
    "# If you don't specify an API key, Toolhouse will expect you\n",
    "# specify one in the TOOLHOUSE_API_KEY env variable.\n",
    "th = Toolhouse(api_key='TOOLHOUSE_API_KEY')\n",
    "messages = [{\n",
    "    \"role\": \"user\",\n",
    "    \"content\":\n",
    "        \"Generate FizzBuzz code.\"\n",
    "        \"Execute it to show me the results up to 10.\"\n",
    "}]\n",
    "\n",
    "response = client.chat.completions.create(\n",
    "  model=MODEL,\n",
    "  messages=messages,\n",
    "  # Passes Code Execution as a tool\n",
    "  tools=th.get_tools(),\n",
    ")\n",
    "\n",
    "# Runs the Code Execution tool, gets the result,\n",
    "# and appends it to the context\n",
    "tool_run = th.run_tools(response)\n",
    "messages.extend(tool_run)\n",
    "\n",
    "response = client.chat.completions.create(\n",
    "  model=MODEL,\n",
    "  messages=messages,\n",
    "  tools=th.get_tools(),\n",
    ")\n",
    "\n",
    "print(response.choices[0].message.content)"
   ]
  },
  {
   "cell_type": "code",
   "execution_count": null,
   "metadata": {
    "id": "stdq2QCSbYEz"
   },
   "outputs": [],
   "source": []
  }
 ],
 "metadata": {
  "colab": {
   "provenance": []
  },
  "kernelspec": {
   "display_name": "Python 3 (ipykernel)",
   "language": "python",
   "name": "python3"
  },
  "language_info": {
   "codemirror_mode": {
    "name": "ipython",
    "version": 3
   },
   "file_extension": ".py",
   "mimetype": "text/x-python",
   "name": "python",
   "nbconvert_exporter": "python",
   "pygments_lexer": "ipython3",
   "version": "3.9.18"
  }
 },
 "nbformat": 4,
 "nbformat_minor": 4
}
